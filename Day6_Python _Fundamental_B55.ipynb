{
 "cells": [
  {
   "cell_type": "code",
   "execution_count": null,
   "id": "83f6c2c3",
   "metadata": {},
   "outputs": [],
   "source": [
    "#Introduction to looping statement in list\n"
   ]
  },
  {
   "cell_type": "code",
   "execution_count": 4,
   "id": "62749ccd",
   "metadata": {},
   "outputs": [],
   "source": [
    "students= [\"pransi\",\"mansi\",\"sayali\",\"sampada\",\"aarav\"]"
   ]
  },
  {
   "cell_type": "code",
   "execution_count": 5,
   "id": "5b49f00d",
   "metadata": {},
   "outputs": [
    {
     "name": "stdout",
     "output_type": "stream",
     "text": [
      "['pransi', 'mansi', 'sayali', 'sampada', 'aarav']\n"
     ]
    }
   ],
   "source": [
    "print(students)"
   ]
  },
  {
   "cell_type": "raw",
   "id": "332daf90",
   "metadata": {},
   "source": []
  },
  {
   "cell_type": "code",
   "execution_count": null,
   "id": "5755549c",
   "metadata": {},
   "outputs": [],
   "source": [
    "# req: i want to appreciate all the student above?"
   ]
  },
  {
   "cell_type": "code",
   "execution_count": 8,
   "id": "82821dac",
   "metadata": {},
   "outputs": [
    {
     "name": "stdout",
     "output_type": "stream",
     "text": [
      "keep it up, Pransi\n"
     ]
    }
   ],
   "source": [
    "print(f\"keep it up, {students[0].title()}\")"
   ]
  },
  {
   "cell_type": "code",
   "execution_count": 9,
   "id": "e9d05298",
   "metadata": {},
   "outputs": [
    {
     "name": "stdout",
     "output_type": "stream",
     "text": [
      "keep it up, Sayali\n"
     ]
    }
   ],
   "source": [
    "print(f\"keep it up, {students[2].title()}\")"
   ]
  },
  {
   "cell_type": "code",
   "execution_count": 10,
   "id": "35fcce60",
   "metadata": {},
   "outputs": [
    {
     "name": "stdout",
     "output_type": "stream",
     "text": [
      "keep it up, Sampada\n"
     ]
    }
   ],
   "source": [
    "print(f\"keep it up, {students[3].title()}\")"
   ]
  },
  {
   "cell_type": "code",
   "execution_count": null,
   "id": "fb81b98b",
   "metadata": {},
   "outputs": [],
   "source": []
  },
  {
   "cell_type": "code",
   "execution_count": null,
   "id": "651ed224",
   "metadata": {},
   "outputs": [],
   "source": [
    "#Getting the understanding of the for loop"
   ]
  },
  {
   "cell_type": "code",
   "execution_count": null,
   "id": "a1d1bec2",
   "metadata": {},
   "outputs": [],
   "source": [
    "General syntax of the for loop:-"
   ]
  },
  {
   "cell_type": "code",
   "execution_count": null,
   "id": "50f792ae",
   "metadata": {},
   "outputs": [],
   "source": [
    "for tempvar in mainvar:\n",
    "    print(tempvar)             #indentation "
   ]
  },
  {
   "cell_type": "code",
   "execution_count": null,
   "id": "30bb1b90",
   "metadata": {},
   "outputs": [],
   "source": []
  },
  {
   "cell_type": "code",
   "execution_count": null,
   "id": "06d6a385",
   "metadata": {},
   "outputs": [],
   "source": [
    "#let the tempvar be as x"
   ]
  },
  {
   "cell_type": "code",
   "execution_count": 13,
   "id": "48175f14",
   "metadata": {},
   "outputs": [
    {
     "name": "stdout",
     "output_type": "stream",
     "text": [
      "keep it up, Pransi\n",
      "keep it up, Mansi\n",
      "keep it up, Sayali\n",
      "keep it up, Sampada\n",
      "keep it up, Aarav\n"
     ]
    }
   ],
   "source": [
    "for x in students:\n",
    "    print(f\"keep it up, {x.title()}\")"
   ]
  },
  {
   "cell_type": "code",
   "execution_count": 15,
   "id": "4c72cdd2",
   "metadata": {},
   "outputs": [
    {
     "name": "stdout",
     "output_type": "stream",
     "text": [
      "pransi\n",
      "mansi\n",
      "sayali\n",
      "sampada\n",
      "aarav\n"
     ]
    }
   ],
   "source": [
    "for x in students:\n",
    "    print(x)"
   ]
  },
  {
   "cell_type": "code",
   "execution_count": 17,
   "id": "30cc11fc",
   "metadata": {},
   "outputs": [
    {
     "name": "stdout",
     "output_type": "stream",
     "text": [
      "keep it up, Pransi\n",
      "keep it up, Mansi\n",
      "keep it up, Sayali\n",
      "keep it up, Sampada\n",
      "keep it up, Aarav\n"
     ]
    }
   ],
   "source": [
    "for ironman in students:\n",
    "    print(f\"keep it up, {ironman.title()}\")"
   ]
  },
  {
   "cell_type": "code",
   "execution_count": null,
   "id": "198f94d5",
   "metadata": {},
   "outputs": [],
   "source": []
  },
  {
   "cell_type": "code",
   "execution_count": 19,
   "id": "2da26522",
   "metadata": {},
   "outputs": [
    {
     "name": "stdout",
     "output_type": "stream",
     "text": [
      "keep it up, Pransi\n",
      "welcome to the python class, Pransi\n",
      "keep it up, Mansi\n",
      "welcome to the python class, Mansi\n",
      "keep it up, Sayali\n",
      "welcome to the python class, Sayali\n",
      "keep it up, Sampada\n",
      "welcome to the python class, Sampada\n",
      "keep it up, Aarav\n",
      "welcome to the python class, Aarav\n"
     ]
    }
   ],
   "source": [
    "for x in students:\n",
    "    print(f\"keep it up, {x.title()}\")\n",
    "    print(f\"welcome to the python class, {x.title()}\")"
   ]
  },
  {
   "cell_type": "code",
   "execution_count": 20,
   "id": "88c5d89b",
   "metadata": {},
   "outputs": [
    {
     "name": "stdout",
     "output_type": "stream",
     "text": [
      "keep it up, Pransi\n",
      "welcome to the python class, Pransi\n",
      "\n",
      "keep it up, Mansi\n",
      "welcome to the python class, Mansi\n",
      "\n",
      "keep it up, Sayali\n",
      "welcome to the python class, Sayali\n",
      "\n",
      "keep it up, Sampada\n",
      "welcome to the python class, Sampada\n",
      "\n",
      "keep it up, Aarav\n",
      "welcome to the python class, Aarav\n",
      "\n"
     ]
    }
   ],
   "source": [
    "for x in students:\n",
    "    print(f\"keep it up, {x.title()}\")\n",
    "    print(f\"welcome to the python class, {x.title()}\\n\")"
   ]
  },
  {
   "cell_type": "code",
   "execution_count": 22,
   "id": "cf292597",
   "metadata": {},
   "outputs": [
    {
     "name": "stdout",
     "output_type": "stream",
     "text": [
      "keep it up, Pransi\n",
      "welcome to the python class, Pransi\n",
      "\n",
      "keep it up, Mansi\n",
      "welcome to the python class, Mansi\n",
      "\n",
      "keep it up, Sayali\n",
      "welcome to the python class, Sayali\n",
      "\n",
      "keep it up, Sampada\n",
      "welcome to the python class, Sampada\n",
      "\n",
      "keep it up, Aarav\n",
      "welcome to the python class, Aarav\n",
      "\n",
      "Thanks to all of you \n"
     ]
    }
   ],
   "source": [
    "for x in students:\n",
    "    print(f\"keep it up, {x.title()}\")\n",
    "    print(f\"welcome to the python class, {x.title()}\\n\")\n",
    "print(\"Thanks to all of you \")"
   ]
  },
  {
   "cell_type": "code",
   "execution_count": null,
   "id": "4942a985",
   "metadata": {},
   "outputs": [],
   "source": []
  }
 ],
 "metadata": {
  "kernelspec": {
   "display_name": "Python 3 (ipykernel)",
   "language": "python",
   "name": "python3"
  },
  "language_info": {
   "codemirror_mode": {
    "name": "ipython",
    "version": 3
   },
   "file_extension": ".py",
   "mimetype": "text/x-python",
   "name": "python",
   "nbconvert_exporter": "python",
   "pygments_lexer": "ipython3",
   "version": "3.9.7"
  }
 },
 "nbformat": 4,
 "nbformat_minor": 5
}
